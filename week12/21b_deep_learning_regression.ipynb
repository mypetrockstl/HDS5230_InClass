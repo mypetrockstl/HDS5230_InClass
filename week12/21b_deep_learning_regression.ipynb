{
 "cells": [
  {
   "cell_type": "markdown",
   "metadata": {},
   "source": [
    "# Deep learning with keras and tensorflow: Regression models and Regularization"
   ]
  },
  {
   "cell_type": "markdown",
   "metadata": {},
   "source": [
    "*Authors: Evan Carey*\n",
    "\n",
    "*Copyright 2019-2020, BH Analytics, LLC*"
   ]
  },
  {
   "cell_type": "markdown",
   "metadata": {},
   "source": [
    "## Overview\n",
    "\n",
    "In this session, we will explore implementing a deep learning model on a continuous outcome. This is a feed forward artifical neural network. "
   ]
  },
  {
   "cell_type": "markdown",
   "metadata": {},
   "source": [
    "## Libraries\n",
    "\n",
    "First let's import the libraries we will be using."
   ]
  },
  {
   "cell_type": "code",
   "execution_count": 1,
   "metadata": {},
   "outputs": [],
   "source": [
    "import os\n",
    "import pathlib\n",
    "import sys\n",
    "import numpy as np\n",
    "import pandas as pd\n",
    "import matplotlib\n",
    "import matplotlib.pyplot as plt\n",
    "import seaborn as sns\n",
    "import tensorflow as tf\n",
    "from tensorflow import keras"
   ]
  },
  {
   "cell_type": "code",
   "execution_count": 2,
   "metadata": {},
   "outputs": [],
   "source": [
    "## Enable inline plotting for graphics\n",
    "%matplotlib inline\n",
    "## Set default figure size to be larger \n",
    "## this may only work in matplotlib 2.0+!\n",
    "matplotlib.rcParams['figure.figsize'] = [10.0,6.0]\n",
    "## Enable multiple outputs from jupyter cells\n",
    "from IPython.core.interactiveshell import InteractiveShell\n",
    "InteractiveShell.ast_node_interactivity = \"all\""
   ]
  },
  {
   "cell_type": "code",
   "execution_count": 3,
   "metadata": {},
   "outputs": [
    {
     "name": "stdout",
     "output_type": "stream",
     "text": [
      "3.8.2 (default, Mar 26 2020, 15:53:00) \n",
      "[GCC 7.3.0]\n",
      "Pandas version: 1.2.4\n",
      "Matplotlib version: 3.3.4\n",
      "Numpy version: 1.20.1\n",
      "Tensorflow version: 2.3.0\n",
      "Keras version: 2.4.0\n"
     ]
    }
   ],
   "source": [
    "## Get Version information\n",
    "print(sys.version)\n",
    "print(\"Pandas version: {0}\".format(pd.__version__))\n",
    "print(\"Matplotlib version: {0}\".format(matplotlib.__version__))\n",
    "print(\"Numpy version: {0}\".format(np.__version__))\n",
    "print(\"Tensorflow version: {0}\".format(tf.__version__))\n",
    "print(\"Keras version: {0}\".format(keras.__version__))"
   ]
  },
  {
   "cell_type": "markdown",
   "metadata": {},
   "source": [
    " ## Concrete Compressive Strength Data"
   ]
  },
  {
   "cell_type": "markdown",
   "metadata": {},
   "source": [
    "We will use a classic dataset examining variation in concrete compressive strength as a function of various ingredients used in the manufacturing process. The outcome is compressive strength, a continuous variable. There are 8 inputs and 1030 rows. \n",
    "\n",
    "-  Cement (component 1) -- quantitative -- kg in a m3 mixture -- Input Variable\n",
    "-  Blast Furnace Slag (component 2) -- quantitative -- kg in a m3 mixture -- Input Variable\n",
    "-  Fly Ash (component 3) -- quantitative -- kg in a m3 mixture -- Input Variable\n",
    "-  Water (component 4) -- quantitative -- kg in a m3 mixture -- Input Variable\n",
    "-  Superplasticizer (component 5) -- quantitative -- kg in a m3 mixture -- Input Variable\n",
    "-  Coarse Aggregate (component 6) -- quantitative -- kg in a m3 mixture -- Input Variable\n",
    "-  Fine Aggregate (component 7) -- quantitative -- kg in a m3 mixture -- Input Variable\n",
    "-  Age -- quantitative -- Day (1~365) -- Input Variable\n",
    "\n",
    "Here is the reference for the data:\n",
    "\n",
    ">  I-Cheng Yeh, \"Modeling of strength of high performance concrete using artificial neural networks,\" Cement and Concrete Research, Vol. 28, No. 12, pp. 1797-1808 (1998)\n",
    "\n",
    "Check the readme for more details on this dataset. \n"
   ]
  },
  {
   "cell_type": "code",
   "execution_count": 4,
   "metadata": {
    "scrolled": true
   },
   "outputs": [
    {
     "data": {
      "text/html": [
       "<div>\n",
       "<style scoped>\n",
       "    .dataframe tbody tr th:only-of-type {\n",
       "        vertical-align: middle;\n",
       "    }\n",
       "\n",
       "    .dataframe tbody tr th {\n",
       "        vertical-align: top;\n",
       "    }\n",
       "\n",
       "    .dataframe thead th {\n",
       "        text-align: right;\n",
       "    }\n",
       "</style>\n",
       "<table border=\"1\" class=\"dataframe\">\n",
       "  <thead>\n",
       "    <tr style=\"text-align: right;\">\n",
       "      <th></th>\n",
       "      <th>Cement (component 1)(kg in a m^3 mixture)</th>\n",
       "      <th>Blast Furnace Slag (component 2)(kg in a m^3 mixture)</th>\n",
       "      <th>Fly Ash (component 3)(kg in a m^3 mixture)</th>\n",
       "      <th>Water  (component 4)(kg in a m^3 mixture)</th>\n",
       "      <th>Superplasticizer (component 5)(kg in a m^3 mixture)</th>\n",
       "      <th>Coarse Aggregate  (component 6)(kg in a m^3 mixture)</th>\n",
       "      <th>Fine Aggregate (component 7)(kg in a m^3 mixture)</th>\n",
       "      <th>Age (day)</th>\n",
       "      <th>Concrete compressive strength(MPa, megapascals)</th>\n",
       "    </tr>\n",
       "  </thead>\n",
       "  <tbody>\n",
       "    <tr>\n",
       "      <th>0</th>\n",
       "      <td>540.0</td>\n",
       "      <td>0.0</td>\n",
       "      <td>0.0</td>\n",
       "      <td>162.0</td>\n",
       "      <td>2.5</td>\n",
       "      <td>1040.0</td>\n",
       "      <td>676.0</td>\n",
       "      <td>28</td>\n",
       "      <td>79.986111</td>\n",
       "    </tr>\n",
       "    <tr>\n",
       "      <th>1</th>\n",
       "      <td>540.0</td>\n",
       "      <td>0.0</td>\n",
       "      <td>0.0</td>\n",
       "      <td>162.0</td>\n",
       "      <td>2.5</td>\n",
       "      <td>1055.0</td>\n",
       "      <td>676.0</td>\n",
       "      <td>28</td>\n",
       "      <td>61.887366</td>\n",
       "    </tr>\n",
       "    <tr>\n",
       "      <th>2</th>\n",
       "      <td>332.5</td>\n",
       "      <td>142.5</td>\n",
       "      <td>0.0</td>\n",
       "      <td>228.0</td>\n",
       "      <td>0.0</td>\n",
       "      <td>932.0</td>\n",
       "      <td>594.0</td>\n",
       "      <td>270</td>\n",
       "      <td>40.269535</td>\n",
       "    </tr>\n",
       "    <tr>\n",
       "      <th>3</th>\n",
       "      <td>332.5</td>\n",
       "      <td>142.5</td>\n",
       "      <td>0.0</td>\n",
       "      <td>228.0</td>\n",
       "      <td>0.0</td>\n",
       "      <td>932.0</td>\n",
       "      <td>594.0</td>\n",
       "      <td>365</td>\n",
       "      <td>41.052780</td>\n",
       "    </tr>\n",
       "    <tr>\n",
       "      <th>4</th>\n",
       "      <td>198.6</td>\n",
       "      <td>132.4</td>\n",
       "      <td>0.0</td>\n",
       "      <td>192.0</td>\n",
       "      <td>0.0</td>\n",
       "      <td>978.4</td>\n",
       "      <td>825.5</td>\n",
       "      <td>360</td>\n",
       "      <td>44.296075</td>\n",
       "    </tr>\n",
       "  </tbody>\n",
       "</table>\n",
       "</div>"
      ],
      "text/plain": [
       "   Cement (component 1)(kg in a m^3 mixture)  \\\n",
       "0                                      540.0   \n",
       "1                                      540.0   \n",
       "2                                      332.5   \n",
       "3                                      332.5   \n",
       "4                                      198.6   \n",
       "\n",
       "   Blast Furnace Slag (component 2)(kg in a m^3 mixture)  \\\n",
       "0                                                0.0       \n",
       "1                                                0.0       \n",
       "2                                              142.5       \n",
       "3                                              142.5       \n",
       "4                                              132.4       \n",
       "\n",
       "   Fly Ash (component 3)(kg in a m^3 mixture)  \\\n",
       "0                                         0.0   \n",
       "1                                         0.0   \n",
       "2                                         0.0   \n",
       "3                                         0.0   \n",
       "4                                         0.0   \n",
       "\n",
       "   Water  (component 4)(kg in a m^3 mixture)  \\\n",
       "0                                      162.0   \n",
       "1                                      162.0   \n",
       "2                                      228.0   \n",
       "3                                      228.0   \n",
       "4                                      192.0   \n",
       "\n",
       "   Superplasticizer (component 5)(kg in a m^3 mixture)  \\\n",
       "0                                                2.5     \n",
       "1                                                2.5     \n",
       "2                                                0.0     \n",
       "3                                                0.0     \n",
       "4                                                0.0     \n",
       "\n",
       "   Coarse Aggregate  (component 6)(kg in a m^3 mixture)  \\\n",
       "0                                             1040.0      \n",
       "1                                             1055.0      \n",
       "2                                              932.0      \n",
       "3                                              932.0      \n",
       "4                                              978.4      \n",
       "\n",
       "   Fine Aggregate (component 7)(kg in a m^3 mixture)  Age (day)  \\\n",
       "0                                              676.0         28   \n",
       "1                                              676.0         28   \n",
       "2                                              594.0        270   \n",
       "3                                              594.0        365   \n",
       "4                                              825.5        360   \n",
       "\n",
       "   Concrete compressive strength(MPa, megapascals)   \n",
       "0                                         79.986111  \n",
       "1                                         61.887366  \n",
       "2                                         40.269535  \n",
       "3                                         41.052780  \n",
       "4                                         44.296075  "
      ]
     },
     "execution_count": 4,
     "metadata": {},
     "output_type": "execute_result"
    },
    {
     "data": {
      "text/html": [
       "<div>\n",
       "<style scoped>\n",
       "    .dataframe tbody tr th:only-of-type {\n",
       "        vertical-align: middle;\n",
       "    }\n",
       "\n",
       "    .dataframe tbody tr th {\n",
       "        vertical-align: top;\n",
       "    }\n",
       "\n",
       "    .dataframe thead th {\n",
       "        text-align: right;\n",
       "    }\n",
       "</style>\n",
       "<table border=\"1\" class=\"dataframe\">\n",
       "  <thead>\n",
       "    <tr style=\"text-align: right;\">\n",
       "      <th></th>\n",
       "      <th>Cement (component 1)(kg in a m^3 mixture)</th>\n",
       "      <th>Blast Furnace Slag (component 2)(kg in a m^3 mixture)</th>\n",
       "      <th>Fly Ash (component 3)(kg in a m^3 mixture)</th>\n",
       "      <th>Water  (component 4)(kg in a m^3 mixture)</th>\n",
       "      <th>Superplasticizer (component 5)(kg in a m^3 mixture)</th>\n",
       "      <th>Coarse Aggregate  (component 6)(kg in a m^3 mixture)</th>\n",
       "      <th>Fine Aggregate (component 7)(kg in a m^3 mixture)</th>\n",
       "      <th>Age (day)</th>\n",
       "      <th>Concrete compressive strength(MPa, megapascals)</th>\n",
       "    </tr>\n",
       "  </thead>\n",
       "  <tbody>\n",
       "    <tr>\n",
       "      <th>1025</th>\n",
       "      <td>276.4</td>\n",
       "      <td>116.0</td>\n",
       "      <td>90.3</td>\n",
       "      <td>179.6</td>\n",
       "      <td>8.9</td>\n",
       "      <td>870.1</td>\n",
       "      <td>768.3</td>\n",
       "      <td>28</td>\n",
       "      <td>44.284354</td>\n",
       "    </tr>\n",
       "    <tr>\n",
       "      <th>1026</th>\n",
       "      <td>322.2</td>\n",
       "      <td>0.0</td>\n",
       "      <td>115.6</td>\n",
       "      <td>196.0</td>\n",
       "      <td>10.4</td>\n",
       "      <td>817.9</td>\n",
       "      <td>813.4</td>\n",
       "      <td>28</td>\n",
       "      <td>31.178794</td>\n",
       "    </tr>\n",
       "    <tr>\n",
       "      <th>1027</th>\n",
       "      <td>148.5</td>\n",
       "      <td>139.4</td>\n",
       "      <td>108.6</td>\n",
       "      <td>192.7</td>\n",
       "      <td>6.1</td>\n",
       "      <td>892.4</td>\n",
       "      <td>780.0</td>\n",
       "      <td>28</td>\n",
       "      <td>23.696601</td>\n",
       "    </tr>\n",
       "    <tr>\n",
       "      <th>1028</th>\n",
       "      <td>159.1</td>\n",
       "      <td>186.7</td>\n",
       "      <td>0.0</td>\n",
       "      <td>175.6</td>\n",
       "      <td>11.3</td>\n",
       "      <td>989.6</td>\n",
       "      <td>788.9</td>\n",
       "      <td>28</td>\n",
       "      <td>32.768036</td>\n",
       "    </tr>\n",
       "    <tr>\n",
       "      <th>1029</th>\n",
       "      <td>260.9</td>\n",
       "      <td>100.5</td>\n",
       "      <td>78.3</td>\n",
       "      <td>200.6</td>\n",
       "      <td>8.6</td>\n",
       "      <td>864.5</td>\n",
       "      <td>761.5</td>\n",
       "      <td>28</td>\n",
       "      <td>32.401235</td>\n",
       "    </tr>\n",
       "  </tbody>\n",
       "</table>\n",
       "</div>"
      ],
      "text/plain": [
       "      Cement (component 1)(kg in a m^3 mixture)  \\\n",
       "1025                                      276.4   \n",
       "1026                                      322.2   \n",
       "1027                                      148.5   \n",
       "1028                                      159.1   \n",
       "1029                                      260.9   \n",
       "\n",
       "      Blast Furnace Slag (component 2)(kg in a m^3 mixture)  \\\n",
       "1025                                              116.0       \n",
       "1026                                                0.0       \n",
       "1027                                              139.4       \n",
       "1028                                              186.7       \n",
       "1029                                              100.5       \n",
       "\n",
       "      Fly Ash (component 3)(kg in a m^3 mixture)  \\\n",
       "1025                                        90.3   \n",
       "1026                                       115.6   \n",
       "1027                                       108.6   \n",
       "1028                                         0.0   \n",
       "1029                                        78.3   \n",
       "\n",
       "      Water  (component 4)(kg in a m^3 mixture)  \\\n",
       "1025                                      179.6   \n",
       "1026                                      196.0   \n",
       "1027                                      192.7   \n",
       "1028                                      175.6   \n",
       "1029                                      200.6   \n",
       "\n",
       "      Superplasticizer (component 5)(kg in a m^3 mixture)  \\\n",
       "1025                                                8.9     \n",
       "1026                                               10.4     \n",
       "1027                                                6.1     \n",
       "1028                                               11.3     \n",
       "1029                                                8.6     \n",
       "\n",
       "      Coarse Aggregate  (component 6)(kg in a m^3 mixture)  \\\n",
       "1025                                              870.1      \n",
       "1026                                              817.9      \n",
       "1027                                              892.4      \n",
       "1028                                              989.6      \n",
       "1029                                              864.5      \n",
       "\n",
       "      Fine Aggregate (component 7)(kg in a m^3 mixture)  Age (day)  \\\n",
       "1025                                              768.3         28   \n",
       "1026                                              813.4         28   \n",
       "1027                                              780.0         28   \n",
       "1028                                              788.9         28   \n",
       "1029                                              761.5         28   \n",
       "\n",
       "      Concrete compressive strength(MPa, megapascals)   \n",
       "1025                                         44.284354  \n",
       "1026                                         31.178794  \n",
       "1027                                         23.696601  \n",
       "1028                                         32.768036  \n",
       "1029                                         32.401235  "
      ]
     },
     "execution_count": 4,
     "metadata": {},
     "output_type": "execute_result"
    }
   ],
   "source": [
    "# import the dataset\n",
    "concrete_source = \\\n",
    "    pd.read_excel(\n",
    "        r\"Concrete_Data.xls\")\n",
    "concrete_source.head()\n",
    "concrete_source.tail()"
   ]
  },
  {
   "cell_type": "code",
   "execution_count": 5,
   "metadata": {},
   "outputs": [
    {
     "data": {
      "text/html": [
       "<div>\n",
       "<style scoped>\n",
       "    .dataframe tbody tr th:only-of-type {\n",
       "        vertical-align: middle;\n",
       "    }\n",
       "\n",
       "    .dataframe tbody tr th {\n",
       "        vertical-align: top;\n",
       "    }\n",
       "\n",
       "    .dataframe thead th {\n",
       "        text-align: right;\n",
       "    }\n",
       "</style>\n",
       "<table border=\"1\" class=\"dataframe\">\n",
       "  <thead>\n",
       "    <tr style=\"text-align: right;\">\n",
       "      <th></th>\n",
       "      <th>Cement</th>\n",
       "      <th>Blast_Furnace_Slag</th>\n",
       "      <th>Fly_Ash</th>\n",
       "      <th>Water</th>\n",
       "      <th>Superplasticizer</th>\n",
       "      <th>Coarse_Aggregate</th>\n",
       "      <th>Fine_Aggregate</th>\n",
       "      <th>Age</th>\n",
       "      <th>Concrete_compressive_strength</th>\n",
       "    </tr>\n",
       "  </thead>\n",
       "  <tbody>\n",
       "    <tr>\n",
       "      <th>0</th>\n",
       "      <td>540.0</td>\n",
       "      <td>0.0</td>\n",
       "      <td>0.0</td>\n",
       "      <td>162.0</td>\n",
       "      <td>2.5</td>\n",
       "      <td>1040.0</td>\n",
       "      <td>676.0</td>\n",
       "      <td>28</td>\n",
       "      <td>79.986111</td>\n",
       "    </tr>\n",
       "    <tr>\n",
       "      <th>1</th>\n",
       "      <td>540.0</td>\n",
       "      <td>0.0</td>\n",
       "      <td>0.0</td>\n",
       "      <td>162.0</td>\n",
       "      <td>2.5</td>\n",
       "      <td>1055.0</td>\n",
       "      <td>676.0</td>\n",
       "      <td>28</td>\n",
       "      <td>61.887366</td>\n",
       "    </tr>\n",
       "    <tr>\n",
       "      <th>2</th>\n",
       "      <td>332.5</td>\n",
       "      <td>142.5</td>\n",
       "      <td>0.0</td>\n",
       "      <td>228.0</td>\n",
       "      <td>0.0</td>\n",
       "      <td>932.0</td>\n",
       "      <td>594.0</td>\n",
       "      <td>270</td>\n",
       "      <td>40.269535</td>\n",
       "    </tr>\n",
       "    <tr>\n",
       "      <th>3</th>\n",
       "      <td>332.5</td>\n",
       "      <td>142.5</td>\n",
       "      <td>0.0</td>\n",
       "      <td>228.0</td>\n",
       "      <td>0.0</td>\n",
       "      <td>932.0</td>\n",
       "      <td>594.0</td>\n",
       "      <td>365</td>\n",
       "      <td>41.052780</td>\n",
       "    </tr>\n",
       "    <tr>\n",
       "      <th>4</th>\n",
       "      <td>198.6</td>\n",
       "      <td>132.4</td>\n",
       "      <td>0.0</td>\n",
       "      <td>192.0</td>\n",
       "      <td>0.0</td>\n",
       "      <td>978.4</td>\n",
       "      <td>825.5</td>\n",
       "      <td>360</td>\n",
       "      <td>44.296075</td>\n",
       "    </tr>\n",
       "  </tbody>\n",
       "</table>\n",
       "</div>"
      ],
      "text/plain": [
       "   Cement  Blast_Furnace_Slag  Fly_Ash  Water  Superplasticizer  \\\n",
       "0   540.0                 0.0      0.0  162.0               2.5   \n",
       "1   540.0                 0.0      0.0  162.0               2.5   \n",
       "2   332.5               142.5      0.0  228.0               0.0   \n",
       "3   332.5               142.5      0.0  228.0               0.0   \n",
       "4   198.6               132.4      0.0  192.0               0.0   \n",
       "\n",
       "   Coarse_Aggregate  Fine_Aggregate  Age  Concrete_compressive_strength  \n",
       "0            1040.0           676.0   28                      79.986111  \n",
       "1            1055.0           676.0   28                      61.887366  \n",
       "2             932.0           594.0  270                      40.269535  \n",
       "3             932.0           594.0  365                      41.052780  \n",
       "4             978.4           825.5  360                      44.296075  "
      ]
     },
     "execution_count": 5,
     "metadata": {},
     "output_type": "execute_result"
    }
   ],
   "source": [
    "# rename the variables to make life easier ;)\n",
    "# use the re module\n",
    "# look for paranthesis, only keep first part\n",
    "import re\n",
    "temp_names = [re.split(' *\\(', x)[0] for x in concrete_source.columns]\n",
    "# sub spaces for underscores\n",
    "concrete_source.columns = [re.sub(' +', '_', x) for x in temp_names]\n",
    "concrete_source.head()"
   ]
  },
  {
   "cell_type": "markdown",
   "metadata": {},
   "source": [
    "Since we have no categorical data, we can just use the `.describe()` method"
   ]
  },
  {
   "cell_type": "code",
   "execution_count": 6,
   "metadata": {},
   "outputs": [
    {
     "data": {
      "text/html": [
       "<div>\n",
       "<style scoped>\n",
       "    .dataframe tbody tr th:only-of-type {\n",
       "        vertical-align: middle;\n",
       "    }\n",
       "\n",
       "    .dataframe tbody tr th {\n",
       "        vertical-align: top;\n",
       "    }\n",
       "\n",
       "    .dataframe thead th {\n",
       "        text-align: right;\n",
       "    }\n",
       "</style>\n",
       "<table border=\"1\" class=\"dataframe\">\n",
       "  <thead>\n",
       "    <tr style=\"text-align: right;\">\n",
       "      <th></th>\n",
       "      <th>Cement</th>\n",
       "      <th>Blast_Furnace_Slag</th>\n",
       "      <th>Fly_Ash</th>\n",
       "      <th>Water</th>\n",
       "      <th>Superplasticizer</th>\n",
       "      <th>Coarse_Aggregate</th>\n",
       "      <th>Fine_Aggregate</th>\n",
       "      <th>Age</th>\n",
       "      <th>Concrete_compressive_strength</th>\n",
       "    </tr>\n",
       "  </thead>\n",
       "  <tbody>\n",
       "    <tr>\n",
       "      <th>count</th>\n",
       "      <td>1030.000000</td>\n",
       "      <td>1030.000000</td>\n",
       "      <td>1030.000000</td>\n",
       "      <td>1030.000000</td>\n",
       "      <td>1030.000000</td>\n",
       "      <td>1030.000000</td>\n",
       "      <td>1030.000000</td>\n",
       "      <td>1030.000000</td>\n",
       "      <td>1030.000000</td>\n",
       "    </tr>\n",
       "    <tr>\n",
       "      <th>mean</th>\n",
       "      <td>281.165631</td>\n",
       "      <td>73.895485</td>\n",
       "      <td>54.187136</td>\n",
       "      <td>181.566359</td>\n",
       "      <td>6.203112</td>\n",
       "      <td>972.918592</td>\n",
       "      <td>773.578883</td>\n",
       "      <td>45.662136</td>\n",
       "      <td>35.817836</td>\n",
       "    </tr>\n",
       "    <tr>\n",
       "      <th>std</th>\n",
       "      <td>104.507142</td>\n",
       "      <td>86.279104</td>\n",
       "      <td>63.996469</td>\n",
       "      <td>21.355567</td>\n",
       "      <td>5.973492</td>\n",
       "      <td>77.753818</td>\n",
       "      <td>80.175427</td>\n",
       "      <td>63.169912</td>\n",
       "      <td>16.705679</td>\n",
       "    </tr>\n",
       "    <tr>\n",
       "      <th>min</th>\n",
       "      <td>102.000000</td>\n",
       "      <td>0.000000</td>\n",
       "      <td>0.000000</td>\n",
       "      <td>121.750000</td>\n",
       "      <td>0.000000</td>\n",
       "      <td>801.000000</td>\n",
       "      <td>594.000000</td>\n",
       "      <td>1.000000</td>\n",
       "      <td>2.331808</td>\n",
       "    </tr>\n",
       "    <tr>\n",
       "      <th>25%</th>\n",
       "      <td>192.375000</td>\n",
       "      <td>0.000000</td>\n",
       "      <td>0.000000</td>\n",
       "      <td>164.900000</td>\n",
       "      <td>0.000000</td>\n",
       "      <td>932.000000</td>\n",
       "      <td>730.950000</td>\n",
       "      <td>7.000000</td>\n",
       "      <td>23.707115</td>\n",
       "    </tr>\n",
       "    <tr>\n",
       "      <th>50%</th>\n",
       "      <td>272.900000</td>\n",
       "      <td>22.000000</td>\n",
       "      <td>0.000000</td>\n",
       "      <td>185.000000</td>\n",
       "      <td>6.350000</td>\n",
       "      <td>968.000000</td>\n",
       "      <td>779.510000</td>\n",
       "      <td>28.000000</td>\n",
       "      <td>34.442774</td>\n",
       "    </tr>\n",
       "    <tr>\n",
       "      <th>75%</th>\n",
       "      <td>350.000000</td>\n",
       "      <td>142.950000</td>\n",
       "      <td>118.270000</td>\n",
       "      <td>192.000000</td>\n",
       "      <td>10.160000</td>\n",
       "      <td>1029.400000</td>\n",
       "      <td>824.000000</td>\n",
       "      <td>56.000000</td>\n",
       "      <td>46.136287</td>\n",
       "    </tr>\n",
       "    <tr>\n",
       "      <th>max</th>\n",
       "      <td>540.000000</td>\n",
       "      <td>359.400000</td>\n",
       "      <td>200.100000</td>\n",
       "      <td>247.000000</td>\n",
       "      <td>32.200000</td>\n",
       "      <td>1145.000000</td>\n",
       "      <td>992.600000</td>\n",
       "      <td>365.000000</td>\n",
       "      <td>82.599225</td>\n",
       "    </tr>\n",
       "  </tbody>\n",
       "</table>\n",
       "</div>"
      ],
      "text/plain": [
       "            Cement  Blast_Furnace_Slag      Fly_Ash        Water  \\\n",
       "count  1030.000000         1030.000000  1030.000000  1030.000000   \n",
       "mean    281.165631           73.895485    54.187136   181.566359   \n",
       "std     104.507142           86.279104    63.996469    21.355567   \n",
       "min     102.000000            0.000000     0.000000   121.750000   \n",
       "25%     192.375000            0.000000     0.000000   164.900000   \n",
       "50%     272.900000           22.000000     0.000000   185.000000   \n",
       "75%     350.000000          142.950000   118.270000   192.000000   \n",
       "max     540.000000          359.400000   200.100000   247.000000   \n",
       "\n",
       "       Superplasticizer  Coarse_Aggregate  Fine_Aggregate          Age  \\\n",
       "count       1030.000000       1030.000000     1030.000000  1030.000000   \n",
       "mean           6.203112        972.918592      773.578883    45.662136   \n",
       "std            5.973492         77.753818       80.175427    63.169912   \n",
       "min            0.000000        801.000000      594.000000     1.000000   \n",
       "25%            0.000000        932.000000      730.950000     7.000000   \n",
       "50%            6.350000        968.000000      779.510000    28.000000   \n",
       "75%           10.160000       1029.400000      824.000000    56.000000   \n",
       "max           32.200000       1145.000000      992.600000   365.000000   \n",
       "\n",
       "       Concrete_compressive_strength  \n",
       "count                    1030.000000  \n",
       "mean                       35.817836  \n",
       "std                        16.705679  \n",
       "min                         2.331808  \n",
       "25%                        23.707115  \n",
       "50%                        34.442774  \n",
       "75%                        46.136287  \n",
       "max                        82.599225  "
      ]
     },
     "execution_count": 6,
     "metadata": {},
     "output_type": "execute_result"
    }
   ],
   "source": [
    "# Describe all the data\n",
    "concrete_source.describe(include='all')"
   ]
  },
  {
   "cell_type": "markdown",
   "metadata": {},
   "source": [
    "We will check for missing as well:"
   ]
  },
  {
   "cell_type": "code",
   "execution_count": 7,
   "metadata": {},
   "outputs": [
    {
     "data": {
      "text/plain": [
       "Cement                           0\n",
       "Blast_Furnace_Slag               0\n",
       "Fly_Ash                          0\n",
       "Water                            0\n",
       "Superplasticizer                 0\n",
       "Coarse_Aggregate                 0\n",
       "Fine_Aggregate                   0\n",
       "Age                              0\n",
       "Concrete_compressive_strength    0\n",
       "dtype: int64"
      ]
     },
     "execution_count": 7,
     "metadata": {},
     "output_type": "execute_result"
    }
   ],
   "source": [
    "# summarize missing by column\n",
    "concrete_source.isna().sum()"
   ]
  },
  {
   "cell_type": "markdown",
   "metadata": {},
   "source": [
    "We can see there is no missing data. The average compressive strength is 35.8, but the minimum is 2.3 while the max is 82.5. We want to implement a neural network that captures the non-linear and interactions in these inputs and then predicts compressive strength as a function of the inputs. "
   ]
  },
  {
   "cell_type": "code",
   "execution_count": 8,
   "metadata": {},
   "outputs": [
    {
     "name": "stderr",
     "output_type": "stream",
     "text": [
      "/home/s/anaconda3/lib/python3.8/site-packages/seaborn/distributions.py:2557: FutureWarning: `distplot` is a deprecated function and will be removed in a future version. Please adapt your code to use either `displot` (a figure-level function with similar flexibility) or `histplot` (an axes-level function for histograms).\n",
      "  warnings.warn(msg, FutureWarning)\n"
     ]
    },
    {
     "data": {
      "text/plain": [
       "<AxesSubplot:xlabel='Concrete_compressive_strength', ylabel='Density'>"
      ]
     },
     "execution_count": 8,
     "metadata": {},
     "output_type": "execute_result"
    },
    {
     "data": {
      "image/png": "[encoded data removed]",
      "text/plain": [
       "<Figure size 720x432 with 1 Axes>"
      ]
     },
     "metadata": {
      "needs_background": "light"
     },
     "output_type": "display_data"
    }
   ],
   "source": [
    "# check the distribution of the outcome\n",
    "sns.distplot(concrete_source['Concrete_compressive_strength'])"
   ]
  },
  {
   "cell_type": "markdown",
   "metadata": {},
   "source": [
    "## Convert to numpy objects"
   ]
  },
  {
   "cell_type": "markdown",
   "metadata": {},
   "source": [
    "We need to end up with numpy X and Y matrices to use as inputs to the keras workflow. There are a number of possible ways to do this. In this case, we have no categorical variables, so it is a bit easier. If there were categorical variables we could use  the `get_dummies()` function from Pandas, although you could also find many other ways to do this. "
   ]
  },
  {
   "cell_type": "code",
   "execution_count": 9,
   "metadata": {},
   "outputs": [
    {
     "data": {
      "text/plain": [
       "array([79.98611076, 61.88736576, 40.26953526, ..., 23.69660064,\n",
       "       32.76803638, 32.40123514])"
      ]
     },
     "execution_count": 9,
     "metadata": {},
     "output_type": "execute_result"
    },
    {
     "data": {
      "text/plain": [
       "array([[ 540. ,    0. ,    0. , ..., 1040. ,  676. ,   28. ],\n",
       "       [ 540. ,    0. ,    0. , ..., 1055. ,  676. ,   28. ],\n",
       "       [ 332.5,  142.5,    0. , ...,  932. ,  594. ,  270. ],\n",
       "       ...,\n",
       "       [ 148.5,  139.4,  108.6, ...,  892.4,  780. ,   28. ],\n",
       "       [ 159.1,  186.7,    0. , ...,  989.6,  788.9,   28. ],\n",
       "       [ 260.9,  100.5,   78.3, ...,  864.5,  761.5,   28. ]])"
      ]
     },
     "execution_count": 9,
     "metadata": {},
     "output_type": "execute_result"
    }
   ],
   "source": [
    "# pd.get_dummies()\n",
    "## create numpy arrays from the target and inputs\n",
    "Y = concrete_source['Concrete_compressive_strength'].values\n",
    "X = concrete_source.drop('Concrete_compressive_strength',axis=1).values\n",
    "Y\n",
    "X"
   ]
  },
  {
   "cell_type": "markdown",
   "metadata": {},
   "source": [
    "## Setting up a training/validation/testing dataset"
   ]
  },
  {
   "cell_type": "markdown",
   "metadata": {},
   "source": [
    "Recall our goal in machine learning in general - to develop an algorithm that minimizes **generalization error**.\n",
    "\n",
    "However, we can't directly observe **generalization error**, since it is based on out of sample data. \n",
    "\n",
    "We need to set up a separate training and testing dataset for our models. We will use the training dataset to train model parameters, then use the the testing dataset to estimate generalization error (instead of training error). I will use a random subset of the data in this case.\n",
    "\n",
    "> Other options can include leveraging time series elements of our data (if present), or leveraging clusters in our data (like stores, or plants, or customers). However we don't have those elements in this dataset, so we will use a random subset. "
   ]
  },
  {
   "cell_type": "code",
   "execution_count": 10,
   "metadata": {},
   "outputs": [
    {
     "name": "stdout",
     "output_type": "stream",
     "text": [
      "training data size: (824, 8) (824,)\n",
      "testing data size: (206, 8) (206,)\n"
     ]
    }
   ],
   "source": [
    "from sklearn.model_selection import train_test_split\n",
    "# initial split - default is to shuffle data and randomly split\n",
    "X_train, X_test = train_test_split(X, train_size=0.8, random_state=4)\n",
    "Y_train, Y_test = train_test_split(Y, train_size=0.8, random_state=4)\n",
    "# check dims\n",
    "print('training data size:', X_train.shape, Y_train.shape)\n",
    "print('testing data size:', X_test.shape, Y_test.shape)"
   ]
  },
  {
   "cell_type": "markdown",
   "metadata": {},
   "source": [
    "## Build the first keras model"
   ]
  },
  {
   "cell_type": "markdown",
   "metadata": {},
   "source": [
    "We will start with the equivalent model to a linear regression. The recommended default optimizer to use is `rmsprop`, so we will start there. \n",
    "\n",
    "> Notice that I am using the tensorflow.keras module instead of just keras. These are slightly different - tensorflow had imported the keras API into their library. There are minor differences, so this is important to note!"
   ]
  },
  {
   "cell_type": "code",
   "execution_count": 11,
   "metadata": {},
   "outputs": [],
   "source": [
    "from tensorflow.keras.models import Sequential\n",
    "from tensorflow.keras.layers import Dense\n",
    "# build a simple linear model\n",
    "\n",
    "\n",
    "def build_model1():\n",
    "    model = Sequential()\n",
    "    model.add(Dense(1,\n",
    "                    activation='linear',\n",
    "                    input_dim=X_train.shape[1]))\n",
    "    model.compile(optimizer='rmsprop',\n",
    "                  loss='mse',  # mean squared error\n",
    "                  metrics=['mae'])  # mean absolute error\n",
    "    return model"
   ]
  },
  {
   "cell_type": "markdown",
   "metadata": {},
   "source": [
    "We will need to scale the training and testing data in a consistent manner. Let's use the sklearn `StandardScaler()` to accomplish this. This will apply the same transformation (based on the initial `.fit()` call) to subsequent datasets. "
   ]
  },
  {
   "cell_type": "code",
   "execution_count": 12,
   "metadata": {},
   "outputs": [],
   "source": [
    "# scale data with a transformer so we can later apply the same transformation\n",
    "from sklearn import preprocessing\n",
    "trans_1 = \\\n",
    "    preprocessing.StandardScaler().fit(X_train)\n",
    "X_train_s = trans_1.transform(X_train)"
   ]
  },
  {
   "cell_type": "markdown",
   "metadata": {},
   "source": [
    "Now we can fit the model to the dataset and investigate the results."
   ]
  },
  {
   "cell_type": "code",
   "execution_count": 13,
   "metadata": {},
   "outputs": [
    {
     "name": "stdout",
     "output_type": "stream",
     "text": [
      "Epoch 1/40\n",
      "21/21 [==============================] - 1s 26ms/step - loss: 1582.5912 - mae: 36.0106 - val_loss: 1589.4449 - val_mae: 35.6591\n",
      "Epoch 2/40\n",
      "21/21 [==============================] - 0s 6ms/step - loss: 1580.0669 - mae: 35.9872 - val_loss: 1586.8727 - val_mae: 35.6356\n",
      "Epoch 3/40\n",
      "21/21 [==============================] - 0s 4ms/step - loss: 1577.8403 - mae: 35.9667 - val_loss: 1584.3125 - val_mae: 35.6127\n",
      "Epoch 4/40\n",
      "21/21 [==============================] - 0s 4ms/step - loss: 1575.6094 - mae: 35.9463 - val_loss: 1581.7644 - val_mae: 35.5897\n",
      "Epoch 5/40\n",
      "21/21 [==============================] - ETA: 0s - loss: 1370.4677 - mae: 33.547 - 0s 5ms/step - loss: 1573.3766 - mae: 35.9265 - val_loss: 1579.2830 - val_mae: 35.5673\n",
      "Epoch 6/40\n",
      "21/21 [==============================] - 0s 11ms/step - loss: 1571.1432 - mae: 35.9059 - val_loss: 1576.7456 - val_mae: 35.5446\n",
      "Epoch 7/40\n",
      "21/21 [==============================] - 0s 10ms/step - loss: 1568.8696 - mae: 35.8845 - val_loss: 1574.0532 - val_mae: 35.5212\n",
      "Epoch 8/40\n",
      "21/21 [==============================] - 0s 8ms/step - loss: 1566.5901 - mae: 35.8644 - val_loss: 1571.5320 - val_mae: 35.4986\n",
      "Epoch 9/40\n",
      "21/21 [==============================] - 0s 6ms/step - loss: 1564.3679 - mae: 35.8440 - val_loss: 1569.0370 - val_mae: 35.4760\n",
      "Epoch 10/40\n",
      "21/21 [==============================] - 0s 8ms/step - loss: 1562.1512 - mae: 35.8235 - val_loss: 1566.4390 - val_mae: 35.4529\n",
      "Epoch 11/40\n",
      "21/21 [==============================] - 0s 9ms/step - loss: 1559.9020 - mae: 35.8031 - val_loss: 1564.0497 - val_mae: 35.4308\n",
      "Epoch 12/40\n",
      "21/21 [==============================] - 0s 10ms/step - loss: 1557.7761 - mae: 35.7830 - val_loss: 1561.6556 - val_mae: 35.4085\n",
      "Epoch 13/40\n",
      "21/21 [==============================] - 0s 7ms/step - loss: 1555.5464 - mae: 35.7622 - val_loss: 1559.0558 - val_mae: 35.3854\n",
      "Epoch 14/40\n",
      "21/21 [==============================] - 0s 7ms/step - loss: 1553.3242 - mae: 35.7418 - val_loss: 1556.5886 - val_mae: 35.3627\n",
      "Epoch 15/40\n",
      "21/21 [==============================] - 0s 10ms/step - loss: 1551.1411 - mae: 35.7217 - val_loss: 1554.1429 - val_mae: 35.3401\n",
      "Epoch 16/40\n",
      "21/21 [==============================] - 0s 9ms/step - loss: 1548.9670 - mae: 35.7011 - val_loss: 1551.6379 - val_mae: 35.3172\n",
      "Epoch 17/40\n",
      "21/21 [==============================] - 0s 6ms/step - loss: 1546.7581 - mae: 35.6798 - val_loss: 1549.0966 - val_mae: 35.2941\n",
      "Epoch 18/40\n",
      "21/21 [==============================] - 0s 11ms/step - loss: 1544.5806 - mae: 35.6599 - val_loss: 1546.6915 - val_mae: 35.2717\n",
      "Epoch 19/40\n",
      "21/21 [==============================] - 0s 5ms/step - loss: 1542.4142 - mae: 35.6394 - val_loss: 1544.2493 - val_mae: 35.2487\n",
      "Epoch 20/40\n",
      "21/21 [==============================] - 0s 8ms/step - loss: 1540.2842 - mae: 35.6194 - val_loss: 1541.8512 - val_mae: 35.2259\n",
      "Epoch 21/40\n",
      "21/21 [==============================] - 0s 10ms/step - loss: 1538.1176 - mae: 35.5985 - val_loss: 1539.4316 - val_mae: 35.2036\n",
      "Epoch 22/40\n",
      "21/21 [==============================] - 0s 8ms/step - loss: 1535.9374 - mae: 35.5775 - val_loss: 1536.9617 - val_mae: 35.1808\n",
      "Epoch 23/40\n",
      "21/21 [==============================] - 0s 10ms/step - loss: 1533.7955 - mae: 35.5575 - val_loss: 1534.5564 - val_mae: 35.1585\n",
      "Epoch 24/40\n",
      "21/21 [==============================] - 0s 4ms/step - loss: 1531.6028 - mae: 35.5365 - val_loss: 1532.0723 - val_mae: 35.1358\n",
      "Epoch 25/40\n",
      "21/21 [==============================] - 0s 5ms/step - loss: 1529.4221 - mae: 35.5164 - val_loss: 1529.5602 - val_mae: 35.1127\n",
      "Epoch 26/40\n",
      "21/21 [==============================] - 0s 5ms/step - loss: 1527.2319 - mae: 35.4955 - val_loss: 1527.1086 - val_mae: 35.0902\n",
      "Epoch 27/40\n",
      "21/21 [==============================] - 0s 6ms/step - loss: 1525.0460 - mae: 35.4750 - val_loss: 1524.6196 - val_mae: 35.0674\n",
      "Epoch 28/40\n",
      "21/21 [==============================] - 0s 9ms/step - loss: 1522.8137 - mae: 35.4542 - val_loss: 1522.0387 - val_mae: 35.0444\n",
      "Epoch 29/40\n",
      "21/21 [==============================] - 0s 6ms/step - loss: 1520.6075 - mae: 35.4344 - val_loss: 1519.6210 - val_mae: 35.0219\n",
      "Epoch 30/40\n",
      "21/21 [==============================] - 0s 11ms/step - loss: 1518.4496 - mae: 35.4138 - val_loss: 1517.1519 - val_mae: 34.9989\n",
      "Epoch 31/40\n",
      "21/21 [==============================] - 0s 10ms/step - loss: 1516.2505 - mae: 35.3932 - val_loss: 1514.6138 - val_mae: 34.9757\n",
      "Epoch 32/40\n",
      "21/21 [==============================] - 0s 9ms/step - loss: 1514.0629 - mae: 35.3733 - val_loss: 1512.1718 - val_mae: 34.9532\n",
      "Epoch 33/40\n",
      "21/21 [==============================] - 0s 7ms/step - loss: 1511.9261 - mae: 35.3530 - val_loss: 1509.8123 - val_mae: 34.9308\n",
      "Epoch 34/40\n",
      "21/21 [==============================] - 0s 6ms/step - loss: 1509.7643 - mae: 35.3321 - val_loss: 1507.3040 - val_mae: 34.9078\n",
      "Epoch 35/40\n",
      "21/21 [==============================] - 0s 12ms/step - loss: 1507.5798 - mae: 35.3115 - val_loss: 1504.8470 - val_mae: 34.8853\n",
      "Epoch 36/40\n",
      "21/21 [==============================] - 0s 6ms/step - loss: 1505.4420 - mae: 35.2916 - val_loss: 1502.5040 - val_mae: 34.8630\n",
      "Epoch 37/40\n",
      "21/21 [==============================] - 0s 4ms/step - loss: 1503.3033 - mae: 35.2704 - val_loss: 1500.1138 - val_mae: 34.8405\n",
      "Epoch 38/40\n",
      "21/21 [==============================] - 0s 3ms/step - loss: 1501.1666 - mae: 35.2498 - val_loss: 1497.7239 - val_mae: 34.8179\n",
      "Epoch 39/40\n",
      "21/21 [==============================] - 0s 6ms/step - loss: 1499.0011 - mae: 35.2296 - val_loss: 1495.2128 - val_mae: 34.7949\n",
      "Epoch 40/40\n",
      "21/21 [==============================] - 0s 3ms/step - loss: 1496.8357 - mae: 35.2090 - val_loss: 1492.7679 - val_mae: 34.7718\n"
     ]
    },
    {
     "data": {
      "text/plain": [
       "<tensorflow.python.keras.callbacks.History at 0x7f710810a250>"
      ]
     },
     "execution_count": 13,
     "metadata": {},
     "output_type": "execute_result"
    }
   ],
   "source": [
    "# fit this model/architecture to my data\n",
    "regr1 = build_model1()\n",
    "regr1.fit(X_train_s,\n",
    "          Y_train,\n",
    "          epochs=40,\n",
    "          validation_split=0.2)"
   ]
  },
  {
   "cell_type": "markdown",
   "metadata": {},
   "source": [
    "We can investigate the model object by asking for the layer weights (just the slope and one weight per input in this model) by asking for the model summary. "
   ]
  },
  {
   "cell_type": "code",
   "execution_count": 14,
   "metadata": {},
   "outputs": [
    {
     "name": "stdout",
     "output_type": "stream",
     "text": [
      "Model: \"sequential\"\n",
      "_________________________________________________________________\n",
      "Layer (type)                 Output Shape              Param #   \n",
      "=================================================================\n",
      "dense (Dense)                (None, 1)                 9         \n",
      "=================================================================\n",
      "Total params: 9\n",
      "Trainable params: 9\n",
      "Non-trainable params: 0\n",
      "_________________________________________________________________\n"
     ]
    }
   ],
   "source": [
    "# summarize model\n",
    "regr1.summary()"
   ]
  },
  {
   "cell_type": "code",
   "execution_count": 15,
   "metadata": {},
   "outputs": [
    {
     "data": {
      "text/plain": [
       "[array([[-0.18837717],\n",
       "        [ 0.37555292],\n",
       "        [-0.7539102 ],\n",
       "        [ 0.10105105],\n",
       "        [-0.03801519],\n",
       "        [-0.10107158],\n",
       "        [-1.0070562 ],\n",
       "        [ 0.73229074]], dtype=float32),\n",
       " array([0.84617406], dtype=float32)]"
      ]
     },
     "execution_count": 15,
     "metadata": {},
     "output_type": "execute_result"
    }
   ],
   "source": [
    "# Retrieve the weights\n",
    "regr1.get_weights()"
   ]
  },
  {
   "cell_type": "markdown",
   "metadata": {},
   "source": [
    "Note these weights are the equivalent betas from a linear regression! \n",
    "\n",
    "A good way to understand if the model has fit is to monitor the training error and the validation error for both the loss function (MSE in this case), and another sensible metric (MAE). "
   ]
  },
  {
   "cell_type": "code",
   "execution_count": 16,
   "metadata": {},
   "outputs": [
    {
     "data": {
      "text/plain": [
       "[<matplotlib.lines.Line2D at 0x7f71001f2f70>]"
      ]
     },
     "execution_count": 16,
     "metadata": {},
     "output_type": "execute_result"
    },
    {
     "data": {
      "text/plain": [
       "[<matplotlib.lines.Line2D at 0x7f71001fc340>]"
      ]
     },
     "execution_count": 16,
     "metadata": {},
     "output_type": "execute_result"
    },
    {
     "data": {
      "image/png": "[encoded data removed]",
      "text/plain": [
       "<Figure size 720x432 with 1 Axes>"
      ]
     },
     "metadata": {
      "needs_background": "light"
     },
     "output_type": "display_data"
    }
   ],
   "source": [
    "## plot the loss function per epoch\n",
    "plt.plot(regr1.history.history['loss'],\n",
    "        color='red')\n",
    "plt.plot(regr1.history.history['val_loss'],\n",
    "        color='blue')"
   ]
  },
  {
   "cell_type": "code",
   "execution_count": 17,
   "metadata": {},
   "outputs": [
    {
     "data": {
      "text/plain": [
       "[<matplotlib.lines.Line2D at 0x7f7100151f40>]"
      ]
     },
     "execution_count": 17,
     "metadata": {},
     "output_type": "execute_result"
    },
    {
     "data": {
      "text/plain": [
       "[<matplotlib.lines.Line2D at 0x7f710015e3d0>]"
      ]
     },
     "execution_count": 17,
     "metadata": {},
     "output_type": "execute_result"
    },
    {
     "data": {
      "image/png": "[encoded data removed]",
      "text/plain": [
       "<Figure size 720x432 with 1 Axes>"
      ]
     },
     "metadata": {
      "needs_background": "light"
     },
     "output_type": "display_data"
    }
   ],
   "source": [
    "## plot the loss function per epoch\n",
    "plt.plot(regr1.history.history['mae'],\n",
    "         color='red')\n",
    "plt.plot(regr1.history.history['val_mae'],\n",
    "         color='blue')"
   ]
  },
  {
   "cell_type": "markdown",
   "metadata": {},
   "source": [
    "It looks like the model is making progress, but we clearly need to run it for more epochs to get 'convergence'. I have turned the verbose flag to 0 here so we don't get as much output.  Let's do that.."
   ]
  },
  {
   "cell_type": "code",
   "execution_count": 18,
   "metadata": {},
   "outputs": [
    {
     "data": {
      "text/plain": [
       "<tensorflow.python.keras.callbacks.History at 0x7f7100129430>"
      ]
     },
     "execution_count": 18,
     "metadata": {},
     "output_type": "execute_result"
    }
   ],
   "source": [
    "# fit this model/architecture to my data\n",
    "regr1 = build_model1()\n",
    "regr1.fit(X_train_s,\n",
    "          Y_train,\n",
    "          epochs=2000,\n",
    "          validation_split=0.2,\n",
    "          verbose=0)"
   ]
  },
  {
   "cell_type": "code",
   "execution_count": 19,
   "metadata": {},
   "outputs": [
    {
     "data": {
      "text/plain": [
       "[<matplotlib.lines.Line2D at 0x7f70e07ed640>]"
      ]
     },
     "execution_count": 19,
     "metadata": {},
     "output_type": "execute_result"
    },
    {
     "data": {
      "text/plain": [
       "[<matplotlib.lines.Line2D at 0x7f70e07eda30>]"
      ]
     },
     "execution_count": 19,
     "metadata": {},
     "output_type": "execute_result"
    },
    {
     "data": {
      "image/png": "[encoded data removed]",
      "text/plain": [
       "<Figure size 720x432 with 1 Axes>"
      ]
     },
     "metadata": {
      "needs_background": "light"
     },
     "output_type": "display_data"
    }
   ],
   "source": [
    "# plot the loss function per epoch\n",
    "plt.plot(regr1.history.history['loss'],\n",
    "         color='red')\n",
    "plt.plot(regr1.history.history['val_loss'],\n",
    "         color='blue')"
   ]
  },
  {
   "cell_type": "code",
   "execution_count": 20,
   "metadata": {},
   "outputs": [
    {
     "data": {
      "text/plain": [
       "[<matplotlib.lines.Line2D at 0x7f70e07434f0>]"
      ]
     },
     "execution_count": 20,
     "metadata": {},
     "output_type": "execute_result"
    },
    {
     "data": {
      "text/plain": [
       "[<matplotlib.lines.Line2D at 0x7f70e0743820>]"
      ]
     },
     "execution_count": 20,
     "metadata": {},
     "output_type": "execute_result"
    },
    {
     "data": {
      "image/png": "[encoded data removed]",
      "text/plain": [
       "<Figure size 720x432 with 1 Axes>"
      ]
     },
     "metadata": {
      "needs_background": "light"
     },
     "output_type": "display_data"
    }
   ],
   "source": [
    "# plot the loss function per epoch\n",
    "plt.plot(regr1.history.history['mae'],\n",
    "         color='red')\n",
    "plt.plot(regr1.history.history['val_mae'],\n",
    "         color='blue')"
   ]
  },
  {
   "cell_type": "markdown",
   "metadata": {},
   "source": [
    "It looks like the model converged by the 1700 epoch or so...let's look at those numbers:"
   ]
  },
  {
   "cell_type": "code",
   "execution_count": 21,
   "metadata": {},
   "outputs": [
    {
     "data": {
      "text/plain": [
       "[102.55960083007812,\n",
       " 102.5516357421875,\n",
       " 102.53875732421875,\n",
       " 102.5284423828125,\n",
       " 102.51785278320312,\n",
       " 102.5083236694336,\n",
       " 102.50236511230469,\n",
       " 102.49250793457031,\n",
       " 102.4820785522461,\n",
       " 102.47599792480469,\n",
       " 102.47016143798828,\n",
       " 102.46369934082031,\n",
       " 102.45072174072266,\n",
       " 102.4444580078125,\n",
       " 102.43926239013672,\n",
       " 102.42831420898438,\n",
       " 102.42305755615234,\n",
       " 102.41697692871094,\n",
       " 102.41114044189453,\n",
       " 102.40404510498047,\n",
       " 102.4007797241211,\n",
       " 102.39459991455078,\n",
       " 102.38863372802734,\n",
       " 102.38379669189453,\n",
       " 102.38192749023438]"
      ]
     },
     "execution_count": 21,
     "metadata": {},
     "output_type": "execute_result"
    },
    {
     "data": {
      "text/plain": [
       "[103.08821868896484,\n",
       " 103.08817291259766,\n",
       " 103.0886459350586,\n",
       " 103.08966827392578,\n",
       " 103.08911895751953,\n",
       " 103.08745574951172,\n",
       " 103.0881118774414,\n",
       " 103.08675384521484,\n",
       " 103.08454895019531,\n",
       " 103.08956909179688,\n",
       " 103.0893325805664,\n",
       " 103.09033966064453,\n",
       " 103.0937271118164,\n",
       " 103.09260559082031,\n",
       " 103.08889770507812,\n",
       " 103.08866882324219,\n",
       " 103.0913314819336,\n",
       " 103.08889770507812,\n",
       " 103.08675384521484,\n",
       " 103.08787536621094,\n",
       " 103.08915710449219,\n",
       " 103.0925521850586,\n",
       " 103.09398651123047,\n",
       " 103.09370422363281,\n",
       " 103.09790802001953]"
      ]
     },
     "execution_count": 21,
     "metadata": {},
     "output_type": "execute_result"
    },
    {
     "data": {
      "text/plain": [
       "[7.879232406616211,\n",
       " 7.8785200119018555,\n",
       " 7.877292633056641,\n",
       " 7.876489162445068,\n",
       " 7.875767707824707,\n",
       " 7.875120639801025,\n",
       " 7.874978542327881,\n",
       " 7.874252796173096,\n",
       " 7.873615741729736,\n",
       " 7.873186111450195,\n",
       " 7.872903347015381,\n",
       " 7.872568130493164,\n",
       " 7.871474742889404,\n",
       " 7.87094783782959,\n",
       " 7.870456218719482,\n",
       " 7.869755268096924,\n",
       " 7.869375705718994,\n",
       " 7.868821144104004,\n",
       " 7.868298053741455,\n",
       " 7.867905139923096,\n",
       " 7.867513656616211,\n",
       " 7.867069244384766,\n",
       " 7.866267204284668,\n",
       " 7.865499019622803,\n",
       " 7.865289211273193]"
      ]
     },
     "execution_count": 21,
     "metadata": {},
     "output_type": "execute_result"
    },
    {
     "data": {
      "text/plain": [
       "[7.84447717666626,\n",
       " 7.844428539276123,\n",
       " 7.844337463378906,\n",
       " 7.844158172607422,\n",
       " 7.844114780426025,\n",
       " 7.843950271606445,\n",
       " 7.8442158699035645,\n",
       " 7.8443145751953125,\n",
       " 7.844230651855469,\n",
       " 7.844367980957031,\n",
       " 7.844292163848877,\n",
       " 7.8443498611450195,\n",
       " 7.8443989753723145,\n",
       " 7.844430446624756,\n",
       " 7.844165802001953,\n",
       " 7.843980312347412,\n",
       " 7.8442301750183105,\n",
       " 7.843832015991211,\n",
       " 7.8437275886535645,\n",
       " 7.843859672546387,\n",
       " 7.843919277191162,\n",
       " 7.844061374664307,\n",
       " 7.844052791595459,\n",
       " 7.8440423011779785,\n",
       " 7.844231605529785]"
      ]
     },
     "execution_count": 21,
     "metadata": {},
     "output_type": "execute_result"
    }
   ],
   "source": [
    "# print metrics from the 15th epoch\n",
    "regr1.history.history['val_loss'][1700:1725]\n",
    "regr1.history.history['val_loss'][1975:2000]\n",
    "\n",
    "regr1.history.history['val_mae'][1700:1725]\n",
    "regr1.history.history['val_mae'][1975:2000]"
   ]
  },
  {
   "cell_type": "markdown",
   "metadata": {},
   "source": [
    "Actually it looks like the validation error started getting a little bit worse towards the end! This could be a symptom of overfitting, although the current model does not have much capacity (just a linear model). \n",
    "\n",
    "We could find the minimum validation loss:"
   ]
  },
  {
   "cell_type": "code",
   "execution_count": 22,
   "metadata": {},
   "outputs": [
    {
     "name": "stdout",
     "output_type": "stream",
     "text": [
      "The min validation loss of 102.34619140625 ,\n",
      " was at epoch 1735\n",
      "The min validation mae of 7.8437275886535645 ,\n",
      " was at epoch 1993\n"
     ]
    }
   ],
   "source": [
    "print('The min validation loss of',\n",
    "      np.min(regr1.history.history['val_loss']),\n",
    "      ',\\n was at epoch',\n",
    "      np.argmin(regr1.history.history['val_loss']))\n",
    "\n",
    "print('The min validation mae of',\n",
    "      np.min(regr1.history.history['val_mae']),\n",
    "      ',\\n was at epoch',\n",
    "      np.argmin(regr1.history.history['val_mae']))\n"
   ]
  },
  {
   "cell_type": "markdown",
   "metadata": {},
   "source": [
    "That is a bit inconclusive....we are probably OK with regard to overfitting here. Let's investigate fitting a more flexible model..."
   ]
  },
  {
   "cell_type": "markdown",
   "metadata": {},
   "source": [
    "## Build a more complex model"
   ]
  },
  {
   "cell_type": "markdown",
   "metadata": {},
   "source": [
    "We can add complexity to our model by increasing the **depth** (adding hidden layers), and also increasing the **width** (adding more neurons per layer). "
   ]
  },
  {
   "cell_type": "code",
   "execution_count": 23,
   "metadata": {},
   "outputs": [],
   "source": [
    "# build a 2 layer neural network\n",
    "def build_model2():\n",
    "    model = Sequential()\n",
    "    model.add(Dense(64,\n",
    "                    activation='relu',\n",
    "                    input_dim=X_train.shape[1]))\n",
    "    model.add(Dense(64,\n",
    "                    activation='relu'))\n",
    "    model.add(Dense(1,\n",
    "                    activation='linear'))\n",
    "    model.compile(optimizer='rmsprop',\n",
    "                  loss='mse',  # mean squared error\n",
    "                  metrics=['mae'])  # mean absolute error\n",
    "    return model"
   ]
  },
  {
   "cell_type": "code",
   "execution_count": 24,
   "metadata": {},
   "outputs": [
    {
     "data": {
      "text/plain": [
       "<tensorflow.python.keras.callbacks.History at 0x7f70e071abb0>"
      ]
     },
     "execution_count": 24,
     "metadata": {},
     "output_type": "execute_result"
    }
   ],
   "source": [
    "# fit this model/architecture to my data\n",
    "regr2 = build_model2()\n",
    "regr2.fit(X_train_s,\n",
    "          Y_train,\n",
    "          epochs=400,\n",
    "          validation_split=0.2,\n",
    "          verbose=0)"
   ]
  },
  {
   "cell_type": "markdown",
   "metadata": {},
   "source": [
    "We can investigate the model object by asking for the layer weights (just the slope and intercept in this model), or by asking for the model summary. "
   ]
  },
  {
   "cell_type": "code",
   "execution_count": 25,
   "metadata": {},
   "outputs": [
    {
     "name": "stdout",
     "output_type": "stream",
     "text": [
      "Model: \"sequential_2\"\n",
      "_________________________________________________________________\n",
      "Layer (type)                 Output Shape              Param #   \n",
      "=================================================================\n",
      "dense_2 (Dense)              (None, 64)                576       \n",
      "_________________________________________________________________\n",
      "dense_3 (Dense)              (None, 64)                4160      \n",
      "_________________________________________________________________\n",
      "dense_4 (Dense)              (None, 1)                 65        \n",
      "=================================================================\n",
      "Total params: 4,801\n",
      "Trainable params: 4,801\n",
      "Non-trainable params: 0\n",
      "_________________________________________________________________\n"
     ]
    }
   ],
   "source": [
    "# summarize model\n",
    "regr2.summary()"
   ]
  },
  {
   "cell_type": "code",
   "execution_count": 26,
   "metadata": {},
   "outputs": [],
   "source": [
    "# Retrieve the weights\n",
    "# regr2.get_weights()\n",
    "# This prints all the weights (4,000 +)"
   ]
  },
  {
   "cell_type": "code",
   "execution_count": 27,
   "metadata": {},
   "outputs": [
    {
     "data": {
      "text/plain": [
       "[<matplotlib.lines.Line2D at 0x7f70e0598070>]"
      ]
     },
     "execution_count": 27,
     "metadata": {},
     "output_type": "execute_result"
    },
    {
     "data": {
      "text/plain": [
       "[<matplotlib.lines.Line2D at 0x7f70e0598460>]"
      ]
     },
     "execution_count": 27,
     "metadata": {},
     "output_type": "execute_result"
    },
    {
     "data": {
      "image/png": "[encoded data removed]",
      "text/plain": [
       "<Figure size 720x432 with 1 Axes>"
      ]
     },
     "metadata": {
      "needs_background": "light"
     },
     "output_type": "display_data"
    }
   ],
   "source": [
    "# plot the loss function per epoch\n",
    "plt.plot(regr2.history.history['loss'],\n",
    "         color='red')\n",
    "plt.plot(regr2.history.history['val_loss'],\n",
    "         color='blue')"
   ]
  },
  {
   "cell_type": "code",
   "execution_count": 28,
   "metadata": {},
   "outputs": [
    {
     "data": {
      "text/plain": [
       "[<matplotlib.lines.Line2D at 0x7f70e056fcd0>]"
      ]
     },
     "execution_count": 28,
     "metadata": {},
     "output_type": "execute_result"
    },
    {
     "data": {
      "text/plain": [
       "[<matplotlib.lines.Line2D at 0x7f70e04fc100>]"
      ]
     },
     "execution_count": 28,
     "metadata": {},
     "output_type": "execute_result"
    },
    {
     "data": {
      "image/png": "[encoded data removed]",
      "text/plain": [
       "<Figure size 720x432 with 1 Axes>"
      ]
     },
     "metadata": {
      "needs_background": "light"
     },
     "output_type": "display_data"
    }
   ],
   "source": [
    "# plot the loss function per epoch\n",
    "plt.plot(regr2.history.history['mae'],\n",
    "         color='red')\n",
    "plt.plot(regr2.history.history['val_mae'],\n",
    "         color='blue')"
   ]
  },
  {
   "cell_type": "markdown",
   "metadata": {},
   "source": [
    "This convergence pattern looks pretty good! How well did we do regarding error prediction? "
   ]
  },
  {
   "cell_type": "code",
   "execution_count": 29,
   "metadata": {},
   "outputs": [
    {
     "name": "stdout",
     "output_type": "stream",
     "text": [
      "The min validation loss of 30.100086212158203 ,\n",
      " was at epoch 395\n",
      "The min validation mae of 3.9921622276306152 ,\n",
      " was at epoch 395\n"
     ]
    }
   ],
   "source": [
    "print('The min validation loss of',\n",
    "      np.min(regr2.history.history['val_loss']),\n",
    "      ',\\n was at epoch',\n",
    "      np.argmin(regr2.history.history['val_loss']))\n",
    "\n",
    "print('The min validation mae of',\n",
    "      np.min(regr2.history.history['val_mae']),\n",
    "      ',\\n was at epoch',\n",
    "      np.argmin(regr2.history.history['val_mae']))"
   ]
  },
  {
   "cell_type": "markdown",
   "metadata": {},
   "source": [
    "This implies we could run this for a bit longer since we have not yet overfit the data. Let's try more Epochs and look at the convergence again:"
   ]
  },
  {
   "cell_type": "code",
   "execution_count": 30,
   "metadata": {},
   "outputs": [
    {
     "data": {
      "text/plain": [
       "<tensorflow.python.keras.callbacks.History at 0x7f70e04ca5e0>"
      ]
     },
     "execution_count": 30,
     "metadata": {},
     "output_type": "execute_result"
    }
   ],
   "source": [
    "# fit this model/architecture to my data\n",
    "regr2 = build_model2()\n",
    "regr2.fit(X_train_s,\n",
    "          Y_train,\n",
    "          epochs=1000,\n",
    "          validation_split=0.3,\n",
    "          verbose=0)"
   ]
  },
  {
   "cell_type": "markdown",
   "metadata": {},
   "source": [
    "We can investigate the model object by asking for the layer weights (just the slope and intercept in this model), or by asking for the model summary. "
   ]
  },
  {
   "cell_type": "code",
   "execution_count": 31,
   "metadata": {},
   "outputs": [
    {
     "name": "stdout",
     "output_type": "stream",
     "text": [
      "Model: \"sequential_3\"\n",
      "_________________________________________________________________\n",
      "Layer (type)                 Output Shape              Param #   \n",
      "=================================================================\n",
      "dense_5 (Dense)              (None, 64)                576       \n",
      "_________________________________________________________________\n",
      "dense_6 (Dense)              (None, 64)                4160      \n",
      "_________________________________________________________________\n",
      "dense_7 (Dense)              (None, 1)                 65        \n",
      "=================================================================\n",
      "Total params: 4,801\n",
      "Trainable params: 4,801\n",
      "Non-trainable params: 0\n",
      "_________________________________________________________________\n"
     ]
    }
   ],
   "source": [
    "# summarize model\n",
    "regr2.summary()"
   ]
  },
  {
   "cell_type": "code",
   "execution_count": 32,
   "metadata": {},
   "outputs": [],
   "source": [
    "# Retrieve the weights\n",
    "# regr2.get_weights()\n",
    "# This prints all the weights (4,000 +)"
   ]
  },
  {
   "cell_type": "code",
   "execution_count": 33,
   "metadata": {},
   "outputs": [
    {
     "data": {
      "text/plain": [
       "[<matplotlib.lines.Line2D at 0x7f70e0357f40>]"
      ]
     },
     "execution_count": 33,
     "metadata": {},
     "output_type": "execute_result"
    },
    {
     "data": {
      "text/plain": [
       "[<matplotlib.lines.Line2D at 0x7f70e03643a0>]"
      ]
     },
     "execution_count": 33,
     "metadata": {},
     "output_type": "execute_result"
    },
    {
     "data": {
      "image/png": "[encoded data removed]",
      "text/plain": [
       "<Figure size 720x432 with 1 Axes>"
      ]
     },
     "metadata": {
      "needs_background": "light"
     },
     "output_type": "display_data"
    }
   ],
   "source": [
    "# plot the loss function per epoch\n",
    "plt.plot(regr2.history.history['loss'],\n",
    "         color='red')\n",
    "plt.plot(regr2.history.history['val_loss'],\n",
    "         color='blue')"
   ]
  },
  {
   "cell_type": "code",
   "execution_count": 34,
   "metadata": {},
   "outputs": [
    {
     "data": {
      "text/plain": [
       "[<matplotlib.lines.Line2D at 0x7f70e0331dc0>]"
      ]
     },
     "execution_count": 34,
     "metadata": {},
     "output_type": "execute_result"
    },
    {
     "data": {
      "text/plain": [
       "[<matplotlib.lines.Line2D at 0x7f70e02be1f0>]"
      ]
     },
     "execution_count": 34,
     "metadata": {},
     "output_type": "execute_result"
    },
    {
     "data": {
      "image/png": "[encoded data removed]",
      "text/plain": [
       "<Figure size 720x432 with 1 Axes>"
      ]
     },
     "metadata": {
      "needs_background": "light"
     },
     "output_type": "display_data"
    }
   ],
   "source": [
    "# plot the loss function per epoch\n",
    "plt.plot(regr2.history.history['mae'],\n",
    "         color='red')\n",
    "plt.plot(regr2.history.history['val_mae'],\n",
    "         color='blue')"
   ]
  },
  {
   "cell_type": "markdown",
   "metadata": {},
   "source": [
    "This convergence pattern still looks pretty good! How well did we do regarding error prediction? "
   ]
  },
  {
   "cell_type": "code",
   "execution_count": 35,
   "metadata": {},
   "outputs": [
    {
     "name": "stdout",
     "output_type": "stream",
     "text": [
      "The min validation loss of 22.031641006469727 ,\n",
      " was at epoch 972\n",
      "The min validation mae of 3.3454103469848633 ,\n",
      " was at epoch 939\n"
     ]
    }
   ],
   "source": [
    "print('The min validation loss of',\n",
    "      np.min(regr2.history.history['val_loss']),\n",
    "      ',\\n was at epoch',\n",
    "      np.argmin(regr2.history.history['val_loss']))\n",
    "\n",
    "print('The min validation mae of',\n",
    "      np.min(regr2.history.history['val_mae']),\n",
    "      ',\\n was at epoch',\n",
    "      np.argmin(regr2.history.history['val_mae']))"
   ]
  },
  {
   "cell_type": "markdown",
   "metadata": {},
   "source": [
    "This makes me think we have reached convergence by 1000 epochs, but we did need at least ~800 to get there. "
   ]
  },
  {
   "cell_type": "markdown",
   "metadata": {},
   "source": [
    "## Build a more complex model with dropout"
   ]
  },
  {
   "cell_type": "markdown",
   "metadata": {},
   "source": [
    "It is possible we could get a better model fit on the validation dataset if we introduce some form of regularization. \n",
    "\n",
    "> A good general definition for Regularization is any modifications we make intending to increase generalization error at the expense of training error. \n",
    "\n",
    "One form of regularization is model dropout. This is easily implemented in keras:"
   ]
  },
  {
   "cell_type": "code",
   "execution_count": 36,
   "metadata": {},
   "outputs": [],
   "source": [
    "# build a two layer neural network with regularization\n",
    "from tensorflow.keras.layers import Dropout\n",
    "def build_model3():\n",
    "    model = Sequential()\n",
    "    model.add(Dense(64,\n",
    "                    activation='relu',\n",
    "                    input_dim=X_train.shape[1]))\n",
    "    model.add(Dropout(0.5))\n",
    "    model.add(Dense(64,\n",
    "                    activation='relu'))\n",
    "    model.add(Dropout(0.5))\n",
    "    model.add(Dense(64,\n",
    "                    activation='relu'))\n",
    "    model.add(Dropout(0.5))\n",
    "    model.add(Dense(1,\n",
    "                    activation='linear'))\n",
    "    model.compile(optimizer='rmsprop',\n",
    "                  loss='mse',  # mean squared error\n",
    "                  metrics=['mae'])  # mean absolute error\n",
    "    return model"
   ]
  },
  {
   "cell_type": "code",
   "execution_count": 37,
   "metadata": {},
   "outputs": [
    {
     "data": {
      "text/plain": [
       "<tensorflow.python.keras.callbacks.History at 0x7f70e02416a0>"
      ]
     },
     "execution_count": 37,
     "metadata": {},
     "output_type": "execute_result"
    }
   ],
   "source": [
    "# fit this model/architecture to my data\n",
    "regr3 = build_model3()\n",
    "regr3.fit(X_train_s,\n",
    "          Y_train,\n",
    "          epochs=1000,\n",
    "          validation_split=0.2,\n",
    "          verbose=0)"
   ]
  },
  {
   "cell_type": "markdown",
   "metadata": {},
   "source": [
    "We can investigate the model object by asking for the layer weights (just the slope and intercept in this model), or by asking for the model summary. "
   ]
  },
  {
   "cell_type": "code",
   "execution_count": 38,
   "metadata": {},
   "outputs": [
    {
     "name": "stdout",
     "output_type": "stream",
     "text": [
      "Model: \"sequential_4\"\n",
      "_________________________________________________________________\n",
      "Layer (type)                 Output Shape              Param #   \n",
      "=================================================================\n",
      "dense_8 (Dense)              (None, 64)                576       \n",
      "_________________________________________________________________\n",
      "dropout (Dropout)            (None, 64)                0         \n",
      "_________________________________________________________________\n",
      "dense_9 (Dense)              (None, 64)                4160      \n",
      "_________________________________________________________________\n",
      "dropout_1 (Dropout)          (None, 64)                0         \n",
      "_________________________________________________________________\n",
      "dense_10 (Dense)             (None, 64)                4160      \n",
      "_________________________________________________________________\n",
      "dropout_2 (Dropout)          (None, 64)                0         \n",
      "_________________________________________________________________\n",
      "dense_11 (Dense)             (None, 1)                 65        \n",
      "=================================================================\n",
      "Total params: 8,961\n",
      "Trainable params: 8,961\n",
      "Non-trainable params: 0\n",
      "_________________________________________________________________\n"
     ]
    }
   ],
   "source": [
    "## summarize model\n",
    "regr3.summary()"
   ]
  },
  {
   "cell_type": "code",
   "execution_count": 39,
   "metadata": {},
   "outputs": [
    {
     "data": {
      "text/plain": [
       "[<matplotlib.lines.Line2D at 0x7f70e00a0af0>]"
      ]
     },
     "execution_count": 39,
     "metadata": {},
     "output_type": "execute_result"
    },
    {
     "data": {
      "text/plain": [
       "[<matplotlib.lines.Line2D at 0x7f70e00a0ee0>]"
      ]
     },
     "execution_count": 39,
     "metadata": {},
     "output_type": "execute_result"
    },
    {
     "data": {
      "image/png": "[encoded data removed]",
      "text/plain": [
       "<Figure size 720x432 with 1 Axes>"
      ]
     },
     "metadata": {
      "needs_background": "light"
     },
     "output_type": "display_data"
    }
   ],
   "source": [
    "## plot the loss function per epoch\n",
    "plt.plot(regr3.history.history['loss'],\n",
    "        color='red')\n",
    "plt.plot(regr3.history.history['val_loss'],\n",
    "        color='blue')"
   ]
  },
  {
   "cell_type": "code",
   "execution_count": 40,
   "metadata": {},
   "outputs": [
    {
     "data": {
      "text/plain": [
       "[<matplotlib.lines.Line2D at 0x7f70e005d9a0>]"
      ]
     },
     "execution_count": 40,
     "metadata": {},
     "output_type": "execute_result"
    },
    {
     "data": {
      "text/plain": [
       "[<matplotlib.lines.Line2D at 0x7f70e005dd90>]"
      ]
     },
     "execution_count": 40,
     "metadata": {},
     "output_type": "execute_result"
    },
    {
     "data": {
      "image/png": "[encoded data removed]",
      "text/plain": [
       "<Figure size 720x432 with 1 Axes>"
      ]
     },
     "metadata": {
      "needs_background": "light"
     },
     "output_type": "display_data"
    }
   ],
   "source": [
    "## plot the loss function per epoch\n",
    "plt.plot(regr3.history.history['mae'],\n",
    "         color='red')\n",
    "plt.plot(regr3.history.history['val_mae'],\n",
    "         color='blue')"
   ]
  },
  {
   "cell_type": "code",
   "execution_count": 41,
   "metadata": {},
   "outputs": [
    {
     "name": "stdout",
     "output_type": "stream",
     "text": [
      "The min validation loss of 42.969417572021484 ,\n",
      " was at epoch 963\n",
      "The min validation mae of 5.16500997543335 ,\n",
      " was at epoch 963\n"
     ]
    }
   ],
   "source": [
    "print('The min validation loss of',\n",
    "      np.min(regr3.history.history['val_loss']),\n",
    "      ',\\n was at epoch',\n",
    "      np.argmin(regr3.history.history['val_loss']))\n",
    "\n",
    "print('The min validation mae of',\n",
    "      np.min(regr3.history.history['val_mae']),\n",
    "      ',\\n was at epoch',\n",
    "      np.argmin(regr3.history.history['val_mae']))"
   ]
  },
  {
   "cell_type": "markdown",
   "metadata": {},
   "source": [
    "This is looking good. The model seemed to have converged by the 700 epoch or so, overfit does not seem to be an issue. We are at a bit higher error validation error than we were in the prior models though.  "
   ]
  },
  {
   "cell_type": "markdown",
   "metadata": {},
   "source": [
    "## Build a more complex model with dropout, add L1 regularization"
   ]
  },
  {
   "cell_type": "markdown",
   "metadata": {},
   "source": [
    "Another form of regularization we can apply is through applying penalties to the weights. This is exactly like what you have learned before in the context of penalized linear models (LASSO, Ridge, Elastic net...)\n",
    "\n",
    "We can apply either L1, L2, or both penalties. \n",
    "\n",
    "-  Typically we penalize the weights but not the bias terms of the affine transformation for each neuron. \n",
    "-  We will typically use the same weight across the network, although we could consider optimizing a different weight for each neuron with input(s).\n",
    "    -  This would be expensive (large hyper-parameter space to search). \n",
    "-  L2 penalty\n",
    "    -  Like ridge regression. Reduces correlated inputs, but leaves weights in the model as small values. \n",
    "-  L1 penalty\n",
    "    -  Like LASSO regression. Eliminates some weights, induces sparsity. \n",
    "\n",
    "\n",
    "\n",
    "Some notes on the keras syntax:\n",
    "\n",
    "-  kernel_regularizer:\n",
    "    -  This will regularize the weights matrix (the Beta’s)\n",
    "-  activity_regularizer:\n",
    "    -  This will regularize the output of the neuron (the activation function output)\n",
    "\n",
    "-  bias_regularizer:\n",
    "    -  This will regularize the bias term for the neuron"
   ]
  },
  {
   "cell_type": "code",
   "execution_count": 42,
   "metadata": {},
   "outputs": [],
   "source": [
    "from tensorflow.keras.regularizers import l1\n",
    "l1_penalty = 0.1\n",
    "# build a two layer neural network with regularization\n",
    "\n",
    "\n",
    "def build_model4():\n",
    "    model = Sequential()\n",
    "    model.add(Dense(64,\n",
    "                    activation='relu',\n",
    "                    kernel_regularizer=l1(l1_penalty),\n",
    "                    input_dim=X_train.shape[1]))\n",
    "    model.add(Dropout(0.5))\n",
    "    model.add(Dense(64,\n",
    "                    activation='relu',\n",
    "                    kernel_regularizer=l1(l1_penalty)))\n",
    "    model.add(Dropout(0.5))\n",
    "    model.add(Dense(64,\n",
    "                    activation='relu',\n",
    "                    kernel_regularizer=l1(l1_penalty)))\n",
    "    model.add(Dropout(0.5))\n",
    "    model.add(Dense(1,\n",
    "                    activation='linear'))\n",
    "    model.compile(optimizer='rmsprop',\n",
    "                  loss='mse',  # mean squared error\n",
    "                  metrics=['mae'])  # mean absolute error\n",
    "    return model"
   ]
  },
  {
   "cell_type": "code",
   "execution_count": 43,
   "metadata": {},
   "outputs": [
    {
     "data": {
      "text/plain": [
       "<tensorflow.python.keras.callbacks.History at 0x7f70c87a15b0>"
      ]
     },
     "execution_count": 43,
     "metadata": {},
     "output_type": "execute_result"
    }
   ],
   "source": [
    "# fit this model/architecture to my data\n",
    "regr4 = build_model4()\n",
    "regr4.fit(X_train_s,\n",
    "          Y_train,\n",
    "          epochs=1000,\n",
    "          validation_split=0.2,\n",
    "          verbose=0)"
   ]
  },
  {
   "cell_type": "markdown",
   "metadata": {},
   "source": [
    "We can investigate the model object by asking for the layer weights (just the slope and intercept in this model), or by asking for the model summary. "
   ]
  },
  {
   "cell_type": "code",
   "execution_count": 44,
   "metadata": {},
   "outputs": [
    {
     "name": "stdout",
     "output_type": "stream",
     "text": [
      "Model: \"sequential_5\"\n",
      "_________________________________________________________________\n",
      "Layer (type)                 Output Shape              Param #   \n",
      "=================================================================\n",
      "dense_12 (Dense)             (None, 64)                576       \n",
      "_________________________________________________________________\n",
      "dropout_3 (Dropout)          (None, 64)                0         \n",
      "_________________________________________________________________\n",
      "dense_13 (Dense)             (None, 64)                4160      \n",
      "_________________________________________________________________\n",
      "dropout_4 (Dropout)          (None, 64)                0         \n",
      "_________________________________________________________________\n",
      "dense_14 (Dense)             (None, 64)                4160      \n",
      "_________________________________________________________________\n",
      "dropout_5 (Dropout)          (None, 64)                0         \n",
      "_________________________________________________________________\n",
      "dense_15 (Dense)             (None, 1)                 65        \n",
      "=================================================================\n",
      "Total params: 8,961\n",
      "Trainable params: 8,961\n",
      "Non-trainable params: 0\n",
      "_________________________________________________________________\n"
     ]
    }
   ],
   "source": [
    "# summarize model\n",
    "regr4.summary()"
   ]
  },
  {
   "cell_type": "code",
   "execution_count": 45,
   "metadata": {},
   "outputs": [
    {
     "data": {
      "text/plain": [
       "[<matplotlib.lines.Line2D at 0x7f70c860ed00>]"
      ]
     },
     "execution_count": 45,
     "metadata": {},
     "output_type": "execute_result"
    },
    {
     "data": {
      "text/plain": [
       "[<matplotlib.lines.Line2D at 0x7f70c860e370>]"
      ]
     },
     "execution_count": 45,
     "metadata": {},
     "output_type": "execute_result"
    },
    {
     "data": {
      "image/png": "[encoded data removed]",
      "text/plain": [
       "<Figure size 720x432 with 1 Axes>"
      ]
     },
     "metadata": {
      "needs_background": "light"
     },
     "output_type": "display_data"
    }
   ],
   "source": [
    "# plot the loss function per epoch\n",
    "plt.plot(regr4.history.history['loss'],\n",
    "         color='red')\n",
    "plt.plot(regr4.history.history['val_loss'],\n",
    "         color='blue')"
   ]
  },
  {
   "cell_type": "code",
   "execution_count": 46,
   "metadata": {},
   "outputs": [
    {
     "data": {
      "text/plain": [
       "[<matplotlib.lines.Line2D at 0x7f710022ba30>]"
      ]
     },
     "execution_count": 46,
     "metadata": {},
     "output_type": "execute_result"
    },
    {
     "data": {
      "text/plain": [
       "[<matplotlib.lines.Line2D at 0x7f710022b8e0>]"
      ]
     },
     "execution_count": 46,
     "metadata": {},
     "output_type": "execute_result"
    },
    {
     "data": {
      "image/png": "[encoded data removed]",
      "text/plain": [
       "<Figure size 720x432 with 1 Axes>"
      ]
     },
     "metadata": {
      "needs_background": "light"
     },
     "output_type": "display_data"
    }
   ],
   "source": [
    "# plot the loss function per epoch\n",
    "plt.plot(regr4.history.history['mae'],\n",
    "         color='red')\n",
    "plt.plot(regr4.history.history['val_mae'],\n",
    "         color='blue')"
   ]
  },
  {
   "cell_type": "code",
   "execution_count": 47,
   "metadata": {},
   "outputs": [
    {
     "name": "stdout",
     "output_type": "stream",
     "text": [
      "The min validation loss of 78.30735778808594 ,\n",
      " was at epoch 976\n",
      "The min validation mae of 5.833879470825195 ,\n",
      " was at epoch 919\n"
     ]
    }
   ],
   "source": [
    "print('The min validation loss of',\n",
    "      np.min(regr4.history.history['val_loss']),\n",
    "      ',\\n was at epoch',\n",
    "      np.argmin(regr4.history.history['val_loss']))\n",
    "\n",
    "print('The min validation mae of',\n",
    "      np.min(regr4.history.history['val_mae']),\n",
    "      ',\\n was at epoch',\n",
    "      np.argmin(regr4.history.history['val_mae']))"
   ]
  },
  {
   "cell_type": "markdown",
   "metadata": {},
   "source": [
    "The model convergence looked good again, but the validation metrics are not better than without regularization. Perhaps we need a different strength penalty (different l1)?"
   ]
  },
  {
   "cell_type": "markdown",
   "metadata": {},
   "source": [
    "## Build a more complex model with dropout, add L1 regularization, smaller weight. "
   ]
  },
  {
   "cell_type": "code",
   "execution_count": 48,
   "metadata": {},
   "outputs": [],
   "source": [
    "l1_penalty = 0.001\n",
    "# build a two layer neural network with regularization\n",
    "\n",
    "\n",
    "def build_model5():\n",
    "    model = Sequential()\n",
    "    model.add(Dense(64,\n",
    "                    activation='relu',\n",
    "                    kernel_regularizer=l1(l1_penalty),\n",
    "                    input_dim=X_train.shape[1]))\n",
    "    model.add(Dropout(0.5))\n",
    "    model.add(Dense(64,\n",
    "                    activation='relu',\n",
    "                    kernel_regularizer=l1(l1_penalty)))\n",
    "    model.add(Dropout(0.5))\n",
    "    model.add(Dense(64,\n",
    "                    activation='relu',\n",
    "                    kernel_regularizer=l1(l1_penalty)))\n",
    "    model.add(Dropout(0.5))\n",
    "    model.add(Dense(1,\n",
    "                    activation='linear'))\n",
    "    model.compile(optimizer='rmsprop',\n",
    "                  loss='mse',  # mean squared error\n",
    "                  metrics=['mae'])  # mean absolute error\n",
    "    return model"
   ]
  },
  {
   "cell_type": "code",
   "execution_count": 49,
   "metadata": {},
   "outputs": [
    {
     "data": {
      "text/plain": [
       "<tensorflow.python.keras.callbacks.History at 0x7f70c8545880>"
      ]
     },
     "execution_count": 49,
     "metadata": {},
     "output_type": "execute_result"
    }
   ],
   "source": [
    "# fit this model/architecture to my data\n",
    "regr5 = build_model5()\n",
    "regr5.fit(X_train_s,\n",
    "          Y_train,\n",
    "          epochs=1000,\n",
    "          validation_split=0.2,\n",
    "          verbose=0)"
   ]
  },
  {
   "cell_type": "markdown",
   "metadata": {},
   "source": [
    "We can investigate the model object by asking for the layer weights (just the slope and intercept in this model), or by asking for the model summary. "
   ]
  },
  {
   "cell_type": "code",
   "execution_count": 50,
   "metadata": {},
   "outputs": [
    {
     "name": "stdout",
     "output_type": "stream",
     "text": [
      "Model: \"sequential_6\"\n",
      "_________________________________________________________________\n",
      "Layer (type)                 Output Shape              Param #   \n",
      "=================================================================\n",
      "dense_16 (Dense)             (None, 64)                576       \n",
      "_________________________________________________________________\n",
      "dropout_6 (Dropout)          (None, 64)                0         \n",
      "_________________________________________________________________\n",
      "dense_17 (Dense)             (None, 64)                4160      \n",
      "_________________________________________________________________\n",
      "dropout_7 (Dropout)          (None, 64)                0         \n",
      "_________________________________________________________________\n",
      "dense_18 (Dense)             (None, 64)                4160      \n",
      "_________________________________________________________________\n",
      "dropout_8 (Dropout)          (None, 64)                0         \n",
      "_________________________________________________________________\n",
      "dense_19 (Dense)             (None, 1)                 65        \n",
      "=================================================================\n",
      "Total params: 8,961\n",
      "Trainable params: 8,961\n",
      "Non-trainable params: 0\n",
      "_________________________________________________________________\n"
     ]
    }
   ],
   "source": [
    "# summarize model\n",
    "regr5.summary()"
   ]
  },
  {
   "cell_type": "code",
   "execution_count": 51,
   "metadata": {},
   "outputs": [
    {
     "data": {
      "text/plain": [
       "[<matplotlib.lines.Line2D at 0x7f70c837f3d0>]"
      ]
     },
     "execution_count": 51,
     "metadata": {},
     "output_type": "execute_result"
    },
    {
     "data": {
      "text/plain": [
       "[<matplotlib.lines.Line2D at 0x7f70c837f7c0>]"
      ]
     },
     "execution_count": 51,
     "metadata": {},
     "output_type": "execute_result"
    },
    {
     "data": {
      "image/png": "[encoded data removed]",
      "text/plain": [
       "<Figure size 720x432 with 1 Axes>"
      ]
     },
     "metadata": {
      "needs_background": "light"
     },
     "output_type": "display_data"
    }
   ],
   "source": [
    "# plot the loss function per epoch\n",
    "plt.plot(regr5.history.history['loss'],\n",
    "         color='red')\n",
    "plt.plot(regr5.history.history['val_loss'],\n",
    "         color='blue')"
   ]
  },
  {
   "cell_type": "code",
   "execution_count": 52,
   "metadata": {},
   "outputs": [
    {
     "data": {
      "text/plain": [
       "[<matplotlib.lines.Line2D at 0x7f70c835a280>]"
      ]
     },
     "execution_count": 52,
     "metadata": {},
     "output_type": "execute_result"
    },
    {
     "data": {
      "text/plain": [
       "[<matplotlib.lines.Line2D at 0x7f70c835a670>]"
      ]
     },
     "execution_count": 52,
     "metadata": {},
     "output_type": "execute_result"
    },
    {
     "data": {
      "image/png": "[encoded data removed]",
      "text/plain": [
       "<Figure size 720x432 with 1 Axes>"
      ]
     },
     "metadata": {
      "needs_background": "light"
     },
     "output_type": "display_data"
    }
   ],
   "source": [
    "# plot the loss function per epoch\n",
    "plt.plot(regr5.history.history['mae'],\n",
    "         color='red')\n",
    "plt.plot(regr5.history.history['val_mae'],\n",
    "         color='blue')"
   ]
  },
  {
   "cell_type": "code",
   "execution_count": 53,
   "metadata": {},
   "outputs": [
    {
     "name": "stdout",
     "output_type": "stream",
     "text": [
      "The min validation loss of 47.884037017822266 ,\n",
      " was at epoch 447\n",
      "The min validation mae of 5.3811187744140625 ,\n",
      " was at epoch 388\n"
     ]
    }
   ],
   "source": [
    "print('The min validation loss of',\n",
    "      np.min(regr5.history.history['val_loss']),\n",
    "      ',\\n was at epoch',\n",
    "      np.argmin(regr5.history.history['val_loss']))\n",
    "\n",
    "print('The min validation mae of',\n",
    "      np.min(regr5.history.history['val_mae']),\n",
    "      ',\\n was at epoch',\n",
    "      np.argmin(regr5.history.history['val_mae']))"
   ]
  },
  {
   "cell_type": "markdown",
   "metadata": {},
   "source": [
    "The penalty gave us a similar result here. Sometimes (although not on this dataset), regularization will be necessary to avoid overfitting the dataset.\n",
    "\n",
    "Let's compare all of the models we have fit thus far to get an idea of the best model (best on the validation data)."
   ]
  },
  {
   "cell_type": "code",
   "execution_count": 54,
   "metadata": {},
   "outputs": [
    {
     "data": {
      "text/plain": [
       "103.09790802001953"
      ]
     },
     "execution_count": 54,
     "metadata": {},
     "output_type": "execute_result"
    },
    {
     "data": {
      "text/plain": [
       "23.992101669311523"
      ]
     },
     "execution_count": 54,
     "metadata": {},
     "output_type": "execute_result"
    },
    {
     "data": {
      "text/plain": [
       "44.49125289916992"
      ]
     },
     "execution_count": 54,
     "metadata": {},
     "output_type": "execute_result"
    },
    {
     "data": {
      "text/plain": [
       "81.95675659179688"
      ]
     },
     "execution_count": 54,
     "metadata": {},
     "output_type": "execute_result"
    },
    {
     "data": {
      "text/plain": [
       "57.650550842285156"
      ]
     },
     "execution_count": 54,
     "metadata": {},
     "output_type": "execute_result"
    }
   ],
   "source": [
    "# comparison of mse (loss) on validation data\n",
    "regr1.history.history['val_loss'][-1]\n",
    "regr2.history.history['val_loss'][-1]\n",
    "regr3.history.history['val_loss'][-1]\n",
    "regr4.history.history['val_loss'][-1]\n",
    "regr5.history.history['val_loss'][-1]"
   ]
  },
  {
   "cell_type": "code",
   "execution_count": 55,
   "metadata": {},
   "outputs": [
    {
     "data": {
      "text/plain": [
       "7.844231605529785"
      ]
     },
     "execution_count": 55,
     "metadata": {},
     "output_type": "execute_result"
    },
    {
     "data": {
      "text/plain": [
       "3.4856879711151123"
      ]
     },
     "execution_count": 55,
     "metadata": {},
     "output_type": "execute_result"
    },
    {
     "data": {
      "text/plain": [
       "5.31400203704834"
      ]
     },
     "execution_count": 55,
     "metadata": {},
     "output_type": "execute_result"
    },
    {
     "data": {
      "text/plain": [
       "6.005558013916016"
      ]
     },
     "execution_count": 55,
     "metadata": {},
     "output_type": "execute_result"
    },
    {
     "data": {
      "text/plain": [
       "5.792684078216553"
      ]
     },
     "execution_count": 55,
     "metadata": {},
     "output_type": "execute_result"
    }
   ],
   "source": [
    "# comparison of mae on validation data\n",
    "regr1.history.history['val_mae'][-1]\n",
    "regr2.history.history['val_mae'][-1]\n",
    "regr3.history.history['val_mae'][-1]\n",
    "regr4.history.history['val_mae'][-1]\n",
    "regr5.history.history['val_mae'][-1]"
   ]
  },
  {
   "cell_type": "markdown",
   "metadata": {},
   "source": [
    "It looks like our second model was the best model by either the loss function (mse) or the other chosen metric (mae). \n",
    "\n",
    "Let's select it as the 'best model', and score it on the test data. "
   ]
  },
  {
   "cell_type": "code",
   "execution_count": 56,
   "metadata": {},
   "outputs": [
    {
     "name": "stdout",
     "output_type": "stream",
     "text": [
      "7/7 [==============================] - 0s 584us/step - loss: 327463104.0000 - mae: 17940.2480\n"
     ]
    },
    {
     "data": {
      "text/plain": [
       "[327463104.0, 17940.248046875]"
      ]
     },
     "execution_count": 56,
     "metadata": {},
     "output_type": "execute_result"
    }
   ],
   "source": [
    "# What happened?!?\n",
    "regr2.evaluate(x=X_test,y=Y_test)"
   ]
  },
  {
   "cell_type": "markdown",
   "metadata": {},
   "source": [
    "We need to transform the X as we did (standardize it). Good thing we set up the transformer!"
   ]
  },
  {
   "cell_type": "code",
   "execution_count": 57,
   "metadata": {},
   "outputs": [
    {
     "name": "stdout",
     "output_type": "stream",
     "text": [
      "7/7 [==============================] - 0s 723us/step - loss: 27.9922 - mae: 3.6709\n"
     ]
    },
    {
     "data": {
      "text/plain": [
       "[27.992197036743164, 3.670870780944824]"
      ]
     },
     "execution_count": 57,
     "metadata": {},
     "output_type": "execute_result"
    }
   ],
   "source": [
    "# we need to transform the X...\n",
    "regr2.evaluate(x=trans_1.transform(X_test),\n",
    "               y=Y_test)"
   ]
  },
  {
   "cell_type": "markdown",
   "metadata": {},
   "source": [
    "## Conclusion\n",
    "\n",
    "In this module, we have covered a lot! \n",
    "\n",
    "-  We learned how to implement a regression feed-forward NN using keras. \n",
    "-  We monitored our training error and our estimate of the generalization error via a validation dataset. \n",
    "-  We investigated some forms of regularization\n",
    "-  And then we finally chose the 'best' model. "
   ]
  }
 ],
 "metadata": {
  "kernelspec": {
   "display_name": "Python 3",
   "language": "python",
   "name": "python3"
  },
  "language_info": {
   "codemirror_mode": {
    "name": "ipython",
    "version": 3
   },
   "file_extension": ".py",
   "mimetype": "text/x-python",
   "name": "python",
   "nbconvert_exporter": "python",
   "pygments_lexer": "ipython3",
   "version": "3.8.2"
  }
 },
 "nbformat": 4,
 "nbformat_minor": 2
}
